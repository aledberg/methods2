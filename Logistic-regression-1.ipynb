{
 "cells": [
  {
   "cell_type": "markdown",
   "metadata": {},
   "source": [
    "# Contingency tables vs logistic regression"
   ]
  },
  {
   "cell_type": "markdown",
   "metadata": {},
   "source": [
    "In this notebook we will look at a simple example of logistic regression and compare the results with what we get from an analysis of a contingency table. The example data comes from the [SOM Survey](https://www.gu.se/en/som-institute/the-som-surveys) performed annually by Göteborgs universitet. We will look at two variables from the 2015 survey and will treat the 1499 respondents as a random sample of the population. The dataset we will work with has been slightly edited."
   ]
  },
  {
   "cell_type": "markdown",
   "metadata": {},
   "source": [
    "Start by loading the datasets."
   ]
  },
  {
   "cell_type": "code",
   "execution_count": null,
   "metadata": {},
   "outputs": [],
   "source": [
    "options(repr.plot.width=14, repr.plot.height=8)\n",
    "suppressMessages(require(dplyr))\n",
    "suppressMessages(require(ggplot2))\n",
    "data <- readRDS(\"data_from_som2015.rds\")\n",
    "names(data)"
   ]
  },
  {
   "cell_type": "markdown",
   "metadata": {},
   "source": [
    "Cross-tabulate the data"
   ]
  },
  {
   "cell_type": "code",
   "execution_count": null,
   "metadata": {},
   "outputs": [],
   "source": [
    "## table w margins\n",
    "tab <- table(data$sex,data$faith)\n",
    "xtab <- addmargins(tab)\n",
    "print(\"observed\")\n",
    "print(xtab)\n",
    "print(\"proportions\")\n",
    "ptab <- prop.table(tab,1)\n",
    "print(ptab)"
   ]
  },
  {
   "cell_type": "code",
   "execution_count": null,
   "metadata": {},
   "outputs": [],
   "source": [
    "## compute the OR based on the contingency table\n",
    "odds_men <- ptab[1,2]/(1-ptab[1,2])\n",
    "print(paste(\"odds for men: \", round(odds_men,2)))\n",
    "odds_women <- ptab[2,2]/(1-ptab[2,2])\n",
    "print(paste(\"odds for women: \", round(odds_women,2)))\n",
    "odds_ratio <- odds_women/odds_men"
   ]
  },
  {
   "cell_type": "code",
   "execution_count": null,
   "metadata": {},
   "outputs": [],
   "source": [
    "## next we fit a logistic regression model\n",
    "mod <- glm(as.factor(faith)~1+sex,data=data,family=binomial)\n",
    "summary(mod)"
   ]
  },
  {
   "cell_type": "code",
   "execution_count": null,
   "metadata": {},
   "outputs": [],
   "source": [
    "## let's look at the coefficients exponentiated\n",
    "print(round(exp(mod$coefficients),3))"
   ]
  },
  {
   "cell_type": "markdown",
   "metadata": {},
   "source": [
    "Compare the value of the coefficient for sex with the odds ratio calculated from the contingency table: \n"
   ]
  },
  {
   "cell_type": "code",
   "execution_count": null,
   "metadata": {},
   "outputs": [],
   "source": [
    "print(round(odds_ratio,3))\n",
    "sum(mod$coefficients)"
   ]
  }
 ],
 "metadata": {
  "kernelspec": {
   "display_name": "R",
   "language": "R",
   "name": "ir"
  },
  "language_info": {
   "codemirror_mode": "r",
   "file_extension": ".r",
   "mimetype": "text/x-r-source",
   "name": "R",
   "pygments_lexer": "r",
   "version": "3.6.3"
  }
 },
 "nbformat": 4,
 "nbformat_minor": 4
}
