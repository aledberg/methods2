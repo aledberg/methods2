{
 "cells": [
  {
   "cell_type": "markdown",
   "metadata": {},
   "source": [
    "# Likelihood for the logistic regression model"
   ]
  },
  {
   "cell_type": "raw",
   "metadata": {},
   "source": [
    "Here we explore the likelihood function for a logistic regression model in the simple case of one independent variable. We consider the case of six observations: $y=1,1,0,1,0,0$ and $x=1,1,1,0,0,0$."
   ]
  },
  {
   "cell_type": "code",
   "execution_count": null,
   "metadata": {},
   "outputs": [],
   "source": [
    "## logistic function\n",
    "logf  <- function(x,a,b){\n",
    "    f <- 1+exp(-a -b*x)\n",
    "    return(1.0/f)\n",
    "}\n",
    "## our \"data\"\n",
    "y <- c(1,1,0,1,0,0)\n",
    "x <- c(1,1,1,0,0,0)\n",
    "df <- data.frame(x=x,y=y)"
   ]
  },
  {
   "cell_type": "code",
   "execution_count": null,
   "metadata": {},
   "outputs": [],
   "source": [
    "## evaluate the likelihood function\n",
    "a <- -1\n",
    "b <- 1\n",
    "\n",
    "print(paste(\"Likelihood: \",round((logf(1,a,b)**2)*(1-logf(1,a,b))*logf(0,a,b)*((1-logf(0,a,b))**2),5)))"
   ]
  },
  {
   "cell_type": "markdown",
   "metadata": {},
   "source": [
    "**Exercise:** Please try to maximize the likelihood by changing a and b above"
   ]
  },
  {
   "cell_type": "code",
   "execution_count": null,
   "metadata": {},
   "outputs": [],
   "source": [
    "## check the \"true values\"\n",
    "fit <- glm(y~1+x,data=df,family=binomial)\n",
    "summary(fit)\n",
    "coef(fit)"
   ]
  }
 ],
 "metadata": {
  "kernelspec": {
   "display_name": "R",
   "language": "R",
   "name": "ir"
  },
  "language_info": {
   "codemirror_mode": "r",
   "file_extension": ".r",
   "mimetype": "text/x-r-source",
   "name": "R",
   "pygments_lexer": "r",
   "version": "3.6.3"
  }
 },
 "nbformat": 4,
 "nbformat_minor": 4
}
