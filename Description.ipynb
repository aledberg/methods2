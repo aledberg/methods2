{
 "cells": [
  {
   "cell_type": "markdown",
   "metadata": {},
   "source": [
    "# Description of Swedish mortality data"
   ]
  },
  {
   "cell_type": "markdown",
   "metadata": {},
   "source": [
    "In this notebook we will look at different ways of summarizing data on daily counts of deaths in Sweden. The data comes from [Statistics Sweden](https://www.scb.se/hitta-statistik/corona/corona-i-statistiken/#Statistik)."
   ]
  },
  {
   "cell_type": "markdown",
   "metadata": {},
   "source": [
    "Start by loading the dataset and printing the first few lines."
   ]
  },
  {
   "cell_type": "code",
   "execution_count": 6,
   "metadata": {},
   "outputs": [
    {
     "data": {
      "text/html": [
       "<table>\n",
       "<caption>A data.frame: 6 × 6</caption>\n",
       "<thead>\n",
       "\t<tr><th></th><th scope=col>year</th><th scope=col>day_month</th><th scope=col>date</th><th scope=col>count</th><th scope=col>sex</th><th scope=col>agegr</th></tr>\n",
       "\t<tr><th></th><th scope=col>&lt;dbl&gt;</th><th scope=col>&lt;chr&gt;</th><th scope=col>&lt;date&gt;</th><th scope=col>&lt;dbl&gt;</th><th scope=col>&lt;chr&gt;</th><th scope=col>&lt;chr&gt;</th></tr>\n",
       "</thead>\n",
       "<tbody>\n",
       "\t<tr><th scope=row>1</th><td>2021</td><td>31 januari</td><td>2021-01-31</td><td>277</td><td>both</td><td>all</td></tr>\n",
       "\t<tr><th scope=row>2</th><td>2021</td><td>30 januari</td><td>2021-01-30</td><td>273</td><td>both</td><td>all</td></tr>\n",
       "\t<tr><th scope=row>3</th><td>2021</td><td>29 januari</td><td>2021-01-29</td><td>291</td><td>both</td><td>all</td></tr>\n",
       "\t<tr><th scope=row>4</th><td>2021</td><td>28 januari</td><td>2021-01-28</td><td>285</td><td>both</td><td>all</td></tr>\n",
       "\t<tr><th scope=row>5</th><td>2021</td><td>27 januari</td><td>2021-01-27</td><td>290</td><td>both</td><td>all</td></tr>\n",
       "\t<tr><th scope=row>6</th><td>2021</td><td>26 januari</td><td>2021-01-26</td><td>288</td><td>both</td><td>all</td></tr>\n",
       "</tbody>\n",
       "</table>\n"
      ],
      "text/latex": [
       "A data.frame: 6 × 6\n",
       "\\begin{tabular}{r|llllll}\n",
       "  & year & day\\_month & date & count & sex & agegr\\\\\n",
       "  & <dbl> & <chr> & <date> & <dbl> & <chr> & <chr>\\\\\n",
       "\\hline\n",
       "\t1 & 2021 & 31 januari & 2021-01-31 & 277 & both & all\\\\\n",
       "\t2 & 2021 & 30 januari & 2021-01-30 & 273 & both & all\\\\\n",
       "\t3 & 2021 & 29 januari & 2021-01-29 & 291 & both & all\\\\\n",
       "\t4 & 2021 & 28 januari & 2021-01-28 & 285 & both & all\\\\\n",
       "\t5 & 2021 & 27 januari & 2021-01-27 & 290 & both & all\\\\\n",
       "\t6 & 2021 & 26 januari & 2021-01-26 & 288 & both & all\\\\\n",
       "\\end{tabular}\n"
      ],
      "text/markdown": [
       "\n",
       "A data.frame: 6 × 6\n",
       "\n",
       "| <!--/--> | year &lt;dbl&gt; | day_month &lt;chr&gt; | date &lt;date&gt; | count &lt;dbl&gt; | sex &lt;chr&gt; | agegr &lt;chr&gt; |\n",
       "|---|---|---|---|---|---|---|\n",
       "| 1 | 2021 | 31 januari | 2021-01-31 | 277 | both | all |\n",
       "| 2 | 2021 | 30 januari | 2021-01-30 | 273 | both | all |\n",
       "| 3 | 2021 | 29 januari | 2021-01-29 | 291 | both | all |\n",
       "| 4 | 2021 | 28 januari | 2021-01-28 | 285 | both | all |\n",
       "| 5 | 2021 | 27 januari | 2021-01-27 | 290 | both | all |\n",
       "| 6 | 2021 | 26 januari | 2021-01-26 | 288 | both | all |\n",
       "\n"
      ],
      "text/plain": [
       "  year day_month  date       count sex  agegr\n",
       "1 2021 31 januari 2021-01-31 277   both all  \n",
       "2 2021 30 januari 2021-01-30 273   both all  \n",
       "3 2021 29 januari 2021-01-29 291   both all  \n",
       "4 2021 28 januari 2021-01-28 285   both all  \n",
       "5 2021 27 januari 2021-01-27 290   both all  \n",
       "6 2021 26 januari 2021-01-26 288   both all  "
      ]
     },
     "metadata": {},
     "output_type": "display_data"
    }
   ],
   "source": [
    "data <- readRDS(\"mortality_data_from_SCB.rds\")\n",
    "head(data)"
   ]
  },
  {
   "cell_type": "markdown",
   "metadata": {},
   "source": [
    "The dataset contains the daily counts of number of persons who have died in Sweden from 2015-01-01 to 2021-01-31. Perhaps we could look at the average number of deaths per day and per year."
   ]
  },
  {
   "cell_type": "code",
   "execution_count": 12,
   "metadata": {},
   "outputs": [
    {
     "name": "stderr",
     "output_type": "stream",
     "text": [
      "`summarise()` ungrouping output (override with `.groups` argument)\n",
      "\n"
     ]
    },
    {
     "data": {
      "text/html": [
       "<table>\n",
       "<caption>A tibble: 7 × 3</caption>\n",
       "<thead>\n",
       "\t<tr><th scope=col>year</th><th scope=col>mean_p_day</th><th scope=col>mean_p_year</th></tr>\n",
       "\t<tr><th scope=col>&lt;chr&gt;</th><th scope=col>&lt;dbl&gt;</th><th scope=col>&lt;dbl&gt;</th></tr>\n",
       "</thead>\n",
       "<tbody>\n",
       "\t<tr><td>2015</td><td>246.4301</td><td>89947</td></tr>\n",
       "\t<tr><td>2016</td><td>243.2213</td><td>89019</td></tr>\n",
       "\t<tr><td>2017</td><td>245.8685</td><td>89742</td></tr>\n",
       "\t<tr><td>2018</td><td>245.6767</td><td>89672</td></tr>\n",
       "\t<tr><td>2019</td><td>236.0274</td><td>86150</td></tr>\n",
       "\t<tr><td>2020</td><td>260.8224</td><td>95461</td></tr>\n",
       "\t<tr><td>2021</td><td>315.3548</td><td> 9776</td></tr>\n",
       "</tbody>\n",
       "</table>\n"
      ],
      "text/latex": [
       "A tibble: 7 × 3\n",
       "\\begin{tabular}{lll}\n",
       " year & mean\\_p\\_day & mean\\_p\\_year\\\\\n",
       " <chr> & <dbl> & <dbl>\\\\\n",
       "\\hline\n",
       "\t 2015 & 246.4301 & 89947\\\\\n",
       "\t 2016 & 243.2213 & 89019\\\\\n",
       "\t 2017 & 245.8685 & 89742\\\\\n",
       "\t 2018 & 245.6767 & 89672\\\\\n",
       "\t 2019 & 236.0274 & 86150\\\\\n",
       "\t 2020 & 260.8224 & 95461\\\\\n",
       "\t 2021 & 315.3548 &  9776\\\\\n",
       "\\end{tabular}\n"
      ],
      "text/markdown": [
       "\n",
       "A tibble: 7 × 3\n",
       "\n",
       "| year &lt;chr&gt; | mean_p_day &lt;dbl&gt; | mean_p_year &lt;dbl&gt; |\n",
       "|---|---|---|\n",
       "| 2015 | 246.4301 | 89947 |\n",
       "| 2016 | 243.2213 | 89019 |\n",
       "| 2017 | 245.8685 | 89742 |\n",
       "| 2018 | 245.6767 | 89672 |\n",
       "| 2019 | 236.0274 | 86150 |\n",
       "| 2020 | 260.8224 | 95461 |\n",
       "| 2021 | 315.3548 |  9776 |\n",
       "\n"
      ],
      "text/plain": [
       "  year mean_p_day mean_p_year\n",
       "1 2015 246.4301   89947      \n",
       "2 2016 243.2213   89019      \n",
       "3 2017 245.8685   89742      \n",
       "4 2018 245.6767   89672      \n",
       "5 2019 236.0274   86150      \n",
       "6 2020 260.8224   95461      \n",
       "7 2021 315.3548    9776      "
      ]
     },
     "metadata": {},
     "output_type": "display_data"
    }
   ],
   "source": [
    "require(dplyr)\n",
    "data %>% filter(sex==\"both\" & agegr==\"all\") %>% mutate(year=format(date,\"%Y\")) %>% group_by(year) %>%summarize(mean_p_day=mean(count),mean_p_year=sum(count))"
   ]
  },
  {
   "cell_type": "markdown",
   "metadata": {},
   "source": [
    "We might want to break it down by sex."
   ]
  },
  {
   "cell_type": "code",
   "execution_count": 15,
   "metadata": {},
   "outputs": [
    {
     "name": "stderr",
     "output_type": "stream",
     "text": [
      "`summarise()` regrouping output by 'sex' (override with `.groups` argument)\n",
      "\n"
     ]
    },
    {
     "data": {
      "text/html": [
       "<table>\n",
       "<caption>A grouped_df: 14 × 4</caption>\n",
       "<thead>\n",
       "\t<tr><th scope=col>sex</th><th scope=col>year</th><th scope=col>mean_p_day</th><th scope=col>mean_p_year</th></tr>\n",
       "\t<tr><th scope=col>&lt;chr&gt;</th><th scope=col>&lt;chr&gt;</th><th scope=col>&lt;dbl&gt;</th><th scope=col>&lt;dbl&gt;</th></tr>\n",
       "</thead>\n",
       "<tbody>\n",
       "\t<tr><td>men  </td><td>2015</td><td>119.9863</td><td>43795</td></tr>\n",
       "\t<tr><td>men  </td><td>2016</td><td>117.6803</td><td>43071</td></tr>\n",
       "\t<tr><td>men  </td><td>2017</td><td>118.7507</td><td>43344</td></tr>\n",
       "\t<tr><td>men  </td><td>2018</td><td>119.6466</td><td>43671</td></tr>\n",
       "\t<tr><td>men  </td><td>2019</td><td>115.7260</td><td>42240</td></tr>\n",
       "\t<tr><td>men  </td><td>2020</td><td>129.8525</td><td>47526</td></tr>\n",
       "\t<tr><td>men  </td><td>2021</td><td>157.6452</td><td> 4887</td></tr>\n",
       "\t<tr><td>women</td><td>2015</td><td>126.4438</td><td>46152</td></tr>\n",
       "\t<tr><td>women</td><td>2016</td><td>125.5410</td><td>45948</td></tr>\n",
       "\t<tr><td>women</td><td>2017</td><td>127.1178</td><td>46398</td></tr>\n",
       "\t<tr><td>women</td><td>2018</td><td>126.0301</td><td>46001</td></tr>\n",
       "\t<tr><td>women</td><td>2019</td><td>120.3014</td><td>43910</td></tr>\n",
       "\t<tr><td>women</td><td>2020</td><td>130.9699</td><td>47935</td></tr>\n",
       "\t<tr><td>women</td><td>2021</td><td>157.7097</td><td> 4889</td></tr>\n",
       "</tbody>\n",
       "</table>\n"
      ],
      "text/latex": [
       "A grouped\\_df: 14 × 4\n",
       "\\begin{tabular}{llll}\n",
       " sex & year & mean\\_p\\_day & mean\\_p\\_year\\\\\n",
       " <chr> & <chr> & <dbl> & <dbl>\\\\\n",
       "\\hline\n",
       "\t men   & 2015 & 119.9863 & 43795\\\\\n",
       "\t men   & 2016 & 117.6803 & 43071\\\\\n",
       "\t men   & 2017 & 118.7507 & 43344\\\\\n",
       "\t men   & 2018 & 119.6466 & 43671\\\\\n",
       "\t men   & 2019 & 115.7260 & 42240\\\\\n",
       "\t men   & 2020 & 129.8525 & 47526\\\\\n",
       "\t men   & 2021 & 157.6452 &  4887\\\\\n",
       "\t women & 2015 & 126.4438 & 46152\\\\\n",
       "\t women & 2016 & 125.5410 & 45948\\\\\n",
       "\t women & 2017 & 127.1178 & 46398\\\\\n",
       "\t women & 2018 & 126.0301 & 46001\\\\\n",
       "\t women & 2019 & 120.3014 & 43910\\\\\n",
       "\t women & 2020 & 130.9699 & 47935\\\\\n",
       "\t women & 2021 & 157.7097 &  4889\\\\\n",
       "\\end{tabular}\n"
      ],
      "text/markdown": [
       "\n",
       "A grouped_df: 14 × 4\n",
       "\n",
       "| sex &lt;chr&gt; | year &lt;chr&gt; | mean_p_day &lt;dbl&gt; | mean_p_year &lt;dbl&gt; |\n",
       "|---|---|---|---|\n",
       "| men   | 2015 | 119.9863 | 43795 |\n",
       "| men   | 2016 | 117.6803 | 43071 |\n",
       "| men   | 2017 | 118.7507 | 43344 |\n",
       "| men   | 2018 | 119.6466 | 43671 |\n",
       "| men   | 2019 | 115.7260 | 42240 |\n",
       "| men   | 2020 | 129.8525 | 47526 |\n",
       "| men   | 2021 | 157.6452 |  4887 |\n",
       "| women | 2015 | 126.4438 | 46152 |\n",
       "| women | 2016 | 125.5410 | 45948 |\n",
       "| women | 2017 | 127.1178 | 46398 |\n",
       "| women | 2018 | 126.0301 | 46001 |\n",
       "| women | 2019 | 120.3014 | 43910 |\n",
       "| women | 2020 | 130.9699 | 47935 |\n",
       "| women | 2021 | 157.7097 |  4889 |\n",
       "\n"
      ],
      "text/plain": [
       "   sex   year mean_p_day mean_p_year\n",
       "1  men   2015 119.9863   43795      \n",
       "2  men   2016 117.6803   43071      \n",
       "3  men   2017 118.7507   43344      \n",
       "4  men   2018 119.6466   43671      \n",
       "5  men   2019 115.7260   42240      \n",
       "6  men   2020 129.8525   47526      \n",
       "7  men   2021 157.6452    4887      \n",
       "8  women 2015 126.4438   46152      \n",
       "9  women 2016 125.5410   45948      \n",
       "10 women 2017 127.1178   46398      \n",
       "11 women 2018 126.0301   46001      \n",
       "12 women 2019 120.3014   43910      \n",
       "13 women 2020 130.9699   47935      \n",
       "14 women 2021 157.7097    4889      "
      ]
     },
     "metadata": {},
     "output_type": "display_data"
    }
   ],
   "source": [
    "data %>% filter(sex!=\"both\" & agegr==\"all\") %>% mutate(year=format(date,\"%Y\")) %>% group_by(sex,year) %>%summarize(mean_p_day=mean(count),mean_p_year=sum(count))"
   ]
  },
  {
   "cell_type": "markdown",
   "metadata": {},
   "source": [
    "Such annual summaries are very common and useful, but they hide some aspects of the data. Let's look at average number of deaths per month."
   ]
  },
  {
   "cell_type": "code",
   "execution_count": 18,
   "metadata": {},
   "outputs": [
    {
     "name": "stderr",
     "output_type": "stream",
     "text": [
      "`summarise()` ungrouping output (override with `.groups` argument)\n",
      "\n"
     ]
    },
    {
     "data": {
      "text/html": [
       "<table>\n",
       "<caption>A tibble: 12 × 2</caption>\n",
       "<thead>\n",
       "\t<tr><th scope=col>month</th><th scope=col>death_p_month</th></tr>\n",
       "\t<tr><th scope=col>&lt;chr&gt;</th><th scope=col>&lt;dbl&gt;</th></tr>\n",
       "</thead>\n",
       "<tbody>\n",
       "\t<tr><td>01</td><td>51167</td></tr>\n",
       "\t<tr><td>02</td><td>46424</td></tr>\n",
       "\t<tr><td>03</td><td>49855</td></tr>\n",
       "\t<tr><td>04</td><td>47843</td></tr>\n",
       "\t<tr><td>05</td><td>44091</td></tr>\n",
       "\t<tr><td>06</td><td>40157</td></tr>\n",
       "\t<tr><td>07</td><td>41732</td></tr>\n",
       "\t<tr><td>08</td><td>40950</td></tr>\n",
       "\t<tr><td>09</td><td>40473</td></tr>\n",
       "\t<tr><td>10</td><td>43593</td></tr>\n",
       "\t<tr><td>11</td><td>44065</td></tr>\n",
       "\t<tr><td>12</td><td>49641</td></tr>\n",
       "</tbody>\n",
       "</table>\n"
      ],
      "text/latex": [
       "A tibble: 12 × 2\n",
       "\\begin{tabular}{ll}\n",
       " month & death\\_p\\_month\\\\\n",
       " <chr> & <dbl>\\\\\n",
       "\\hline\n",
       "\t 01 & 51167\\\\\n",
       "\t 02 & 46424\\\\\n",
       "\t 03 & 49855\\\\\n",
       "\t 04 & 47843\\\\\n",
       "\t 05 & 44091\\\\\n",
       "\t 06 & 40157\\\\\n",
       "\t 07 & 41732\\\\\n",
       "\t 08 & 40950\\\\\n",
       "\t 09 & 40473\\\\\n",
       "\t 10 & 43593\\\\\n",
       "\t 11 & 44065\\\\\n",
       "\t 12 & 49641\\\\\n",
       "\\end{tabular}\n"
      ],
      "text/markdown": [
       "\n",
       "A tibble: 12 × 2\n",
       "\n",
       "| month &lt;chr&gt; | death_p_month &lt;dbl&gt; |\n",
       "|---|---|\n",
       "| 01 | 51167 |\n",
       "| 02 | 46424 |\n",
       "| 03 | 49855 |\n",
       "| 04 | 47843 |\n",
       "| 05 | 44091 |\n",
       "| 06 | 40157 |\n",
       "| 07 | 41732 |\n",
       "| 08 | 40950 |\n",
       "| 09 | 40473 |\n",
       "| 10 | 43593 |\n",
       "| 11 | 44065 |\n",
       "| 12 | 49641 |\n",
       "\n"
      ],
      "text/plain": [
       "   month death_p_month\n",
       "1  01    51167        \n",
       "2  02    46424        \n",
       "3  03    49855        \n",
       "4  04    47843        \n",
       "5  05    44091        \n",
       "6  06    40157        \n",
       "7  07    41732        \n",
       "8  08    40950        \n",
       "9  09    40473        \n",
       "10 10    43593        \n",
       "11 11    44065        \n",
       "12 12    49641        "
      ]
     },
     "metadata": {},
     "output_type": "display_data"
    }
   ],
   "source": [
    "data %>% filter(sex==\"both\" & agegr==\"all\" & date<\"2021-01-01\") %>% mutate(month=format(date,\"%m\")) %>% group_by(month) %>%summarize(death_p_month=sum(count))"
   ]
  },
  {
   "cell_type": "markdown",
   "metadata": {},
   "source": [
    "Which months do more people die in these data? How big are the differences?"
   ]
  }
 ],
 "metadata": {
  "kernelspec": {
   "display_name": "R",
   "language": "R",
   "name": "ir"
  },
  "language_info": {
   "codemirror_mode": "r",
   "file_extension": ".r",
   "mimetype": "text/x-r-source",
   "name": "R",
   "pygments_lexer": "r",
   "version": "3.6.3"
  }
 },
 "nbformat": 4,
 "nbformat_minor": 4
}
