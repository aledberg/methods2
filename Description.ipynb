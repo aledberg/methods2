{
 "cells": [
  {
   "cell_type": "markdown",
   "metadata": {},
   "source": [
    "# Description of Swedish mortality data"
   ]
  },
  {
   "cell_type": "markdown",
   "metadata": {},
   "source": [
    "In this notebook we will look at different ways of summarizing data on daily counts of deaths in Sweden. The data comes from [Statistics Sweden](https://www.scb.se/hitta-statistik/corona/corona-i-statistiken/#Statistik). The dataset we will work with has been edited and all the deaths without a determined date has been removed. This means that the total number of death will be slightly lower than what it is in reality. "
   ]
  },
  {
   "cell_type": "markdown",
   "metadata": {},
   "source": [
    "Start by loading the dataset and printing the first few lines."
   ]
  },
  {
   "cell_type": "code",
   "execution_count": null,
   "metadata": {},
   "outputs": [],
   "source": [
    "options(warn=-1)\n",
    "require(dplyr)\n",
    "require(ggplot2)\n",
    "options(repr.plot.width=14, repr.plot.height=8)\n",
    "\n",
    "data <- readRDS(\"mortality_data_from_SCB.rds\")\n",
    "head(data)"
   ]
  },
  {
   "cell_type": "markdown",
   "metadata": {},
   "source": [
    "The dataset contains the daily counts of number of persons who have died in Sweden from 2015-01-01 to 2021-01-31. Perhaps we could look at the average number of deaths per day and the total per year."
   ]
  },
  {
   "cell_type": "code",
   "execution_count": null,
   "metadata": {},
   "outputs": [],
   "source": [
    "data %>% filter(sex==\"both\" & agegr==\"all\") %>% mutate(year=format(date,\"%Y\")) %>% group_by(year) %>%summarize(mean_p_day=mean(count),sum_p_year=sum(count))"
   ]
  },
  {
   "cell_type": "markdown",
   "metadata": {},
   "source": [
    "We might want to break it down by sex."
   ]
  },
  {
   "cell_type": "code",
   "execution_count": null,
   "metadata": {},
   "outputs": [],
   "source": [
    "data %>% filter(sex!=\"both\" & agegr==\"all\") %>% mutate(year=format(date,\"%Y\")) %>% group_by(sex,year) %>%summarize(mean_p_day=mean(count),sum_p_year=sum(count))"
   ]
  },
  {
   "cell_type": "markdown",
   "metadata": {},
   "source": [
    "Such annual summaries are very common and useful, but they hide some aspects of the data. Let's look at average number of deaths per month."
   ]
  },
  {
   "cell_type": "code",
   "execution_count": null,
   "metadata": {},
   "outputs": [],
   "source": [
    "data %>% filter(sex==\"both\" & agegr==\"all\" & date<\"2021-01-01\") %>% mutate(month=format(date,\"%m\")) %>% group_by(month) %>%summarize(death_p_month=sum(count))"
   ]
  },
  {
   "cell_type": "markdown",
   "metadata": {},
   "source": [
    "Which months do more people die in these data? How big are the differences?"
   ]
  },
  {
   "cell_type": "markdown",
   "metadata": {},
   "source": [
    "Next, let's try to visualize the data. We will make a smoothed plot of total number of deaths as a function time. \n"
   ]
  },
  {
   "cell_type": "code",
   "execution_count": null,
   "metadata": {},
   "outputs": [],
   "source": [
    "## prepare a dataset for plotting\n",
    "## first we make a suitable filter to smooth the time series\n",
    "ker <- dnorm(seq(-5,5,length.out=15),0,2)\n",
    "ker <- ker/sum(ker)\n",
    "pdat<- data %>% filter(sex==\"both\" & agegr==\"all\") %>% mutate(fcount=stats::filter(count,ker)) \n",
    "ggplot(data=pdat,aes(x=date,y=fcount))+geom_line()+ylab(\"deaths per day\")+xlab(\"calendar date\") +theme_bw(base_size=18)"
   ]
  }
 ],
 "metadata": {
  "kernelspec": {
   "display_name": "R",
   "language": "R",
   "name": "ir"
  },
  "language_info": {
   "codemirror_mode": "r",
   "file_extension": ".r",
   "mimetype": "text/x-r-source",
   "name": "R",
   "pygments_lexer": "r",
   "version": "3.6.3"
  }
 },
 "nbformat": 4,
 "nbformat_minor": 4
}
