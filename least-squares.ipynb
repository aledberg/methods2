{
 "cells": [
  {
   "cell_type": "markdown",
   "metadata": {},
   "source": [
    "# Linear regression and the method of least squares"
   ]
  },
  {
   "cell_type": "markdown",
   "metadata": {},
   "source": [
    "Here we look at linear regression and least squares. Start by loading the data. This is part of the INSARK-data that we have worked with before. It was made public by the national Swedish archives.  "
   ]
  },
  {
   "cell_type": "code",
   "execution_count": null,
   "metadata": {},
   "outputs": [],
   "source": [
    "options(repr.plot.width=14, repr.plot.height=8)\n",
    "suppressMessages(require(dplyr))\n",
    "suppressMessages(require(ggplot2))\n",
    "data <- readRDS(\"insark_h_w_born.rds\")\n",
    "names(data)\n",
    "table(data$born)"
   ]
  },
  {
   "cell_type": "markdown",
   "metadata": {},
   "source": [
    "Make a random sample and define a least squares function."
   ]
  },
  {
   "cell_type": "code",
   "execution_count": null,
   "metadata": {},
   "outputs": [],
   "source": [
    "tmp <- data %>% sample_n(1000) %>% select(h,w)\n",
    "sumsq <- function(Y,X,a,b){\n",
    "    N <- length(Y)\n",
    "    s <- 0\n",
    "    for (i in 1:N){\n",
    "        s <- s + (Y[i]-a-b*X[i])**2\n",
    "    }\n",
    "    return(s)\n",
    "}"
   ]
  },
  {
   "cell_type": "markdown",
   "metadata": {},
   "source": [
    "Make a guess for the parameters and plot the data and the regression line"
   ]
  },
  {
   "cell_type": "code",
   "execution_count": null,
   "metadata": {
    "scrolled": false
   },
   "outputs": [],
   "source": [
    "a <- -50\n",
    "b <- 0.5\n",
    "tmp$pred <- a + b*tmp$h\n",
    "ggplot(data=tmp,aes(x=h,y=w))+geom_point()+geom_jitter()+\n",
    "xlab(\"height in cm\")+ylab(\"weight in KG\")+theme_bw(base_size=18)+geom_line(aes(x=h,y=pred))\n",
    "ss <- sumsq(tmp$w,tmp$h,a,b)\n",
    "    ## divide by N squared to make the output more easy to interpret\n",
    "print(paste(\"sum of squares:\",ss/dim(tmp)[1]))"
   ]
  },
  {
   "cell_type": "markdown",
   "metadata": {},
   "source": [
    "**Exercise:** Change the values of $a$ and $b$ to make the line fit the points better. Look at how the sum of squares change as you move the line around."
   ]
  },
  {
   "cell_type": "code",
   "execution_count": null,
   "metadata": {},
   "outputs": [],
   "source": [
    "## see where the real minimum is located\n",
    "fit <- lm(w ~ 1+h,data=tmp)\n",
    "print(fit$coefficients)"
   ]
  }
 ],
 "metadata": {
  "kernelspec": {
   "display_name": "R",
   "language": "R",
   "name": "ir"
  },
  "language_info": {
   "codemirror_mode": "r",
   "file_extension": ".r",
   "mimetype": "text/x-r-source",
   "name": "R",
   "pygments_lexer": "r",
   "version": "3.6.3"
  }
 },
 "nbformat": 4,
 "nbformat_minor": 4
}
