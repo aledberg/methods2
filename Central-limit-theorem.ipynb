{
 "cells": [
  {
   "cell_type": "markdown",
   "metadata": {},
   "source": [
    "# Central limit theorem"
   ]
  },
  {
   "cell_type": "markdown",
   "metadata": {},
   "source": [
    "Consider now the case of ten dice rolled at the same time and let the outcome of interest be the sum of the eyes of the ten dies. We can still calculate the distribution of the sum, but with so many dice the combinatorics gets a bit tedious. Still we know that the value of the sum must lay between 10 and 66, and probably that values in the middle of this range will be most common. In fact, we will see how the distribution of the sum can be very well approximated by a normal distribution."
   ]
  },
  {
   "cell_type": "code",
   "execution_count": null,
   "metadata": {},
   "outputs": [],
   "source": [
    "dice <- c(1:6)\n",
    "sum_n_dice<-function(dice,n){\n",
    "    sum(sample(dice,n,replace=TRUE))\n",
    "}"
   ]
  },
  {
   "cell_type": "code",
   "execution_count": null,
   "metadata": {},
   "outputs": [],
   "source": [
    "sum_n_dice(dice,10)"
   ]
  },
  {
   "cell_type": "markdown",
   "metadata": {},
   "source": [
    "To get an idea of the probability of the different outcomes we roll the 10 dices many times"
   ]
  },
  {
   "cell_type": "code",
   "execution_count": null,
   "metadata": {},
   "outputs": [],
   "source": [
    "n=1000000\n",
    "outcome <- vector(length=n)\n",
    "for (i in 1:n){\n",
    "    outcome[i]<- sum_n_dice(dice,10)\n",
    "}"
   ]
  },
  {
   "cell_type": "code",
   "execution_count": null,
   "metadata": {},
   "outputs": [],
   "source": [
    "table(outcome)/n"
   ]
  },
  {
   "cell_type": "markdown",
   "metadata": {},
   "source": [
    "Let's see how this \"distribution\" look graphically"
   ]
  },
  {
   "cell_type": "code",
   "execution_count": null,
   "metadata": {},
   "outputs": [],
   "source": [
    "require(ggplot2)\n",
    "options(repr.plot.width=14, repr.plot.height=8)\n",
    "df<-data.frame(x=outcome)\n",
    "xax<- seq(10:66)\n",
    "ggplot(data=df,aes(x=x))+geom_histogram(binwidth=1,aes(y=..density..))+xlab(\"sum of dice\")"
   ]
  },
  {
   "cell_type": "markdown",
   "metadata": {},
   "source": [
    "To see how well it conforms to a normal distribution we can superimpose the normal distribution having the same mean value (35) and standard deviation (5.4)."
   ]
  },
  {
   "cell_type": "code",
   "execution_count": null,
   "metadata": {},
   "outputs": [],
   "source": [
    "require(ggplot2)\n",
    "df<-data.frame(x=outcome)\n",
    "xax<- seq(10:66)\n",
    "dens<-data.frame(x=xax,d=dnorm(xax,35,5.4))\n",
    "ggplot(data=df,aes(x=x))+geom_histogram(binwidth=1,aes(y=..density..))+geom_line(data=dens,aes(x=xax,y=d),size=2)"
   ]
  },
  {
   "cell_type": "code",
   "execution_count": null,
   "metadata": {},
   "outputs": [],
   "source": [
    "mean(outcome)\n",
    "sd(outcome)"
   ]
  }
 ],
 "metadata": {
  "kernelspec": {
   "display_name": "R",
   "language": "R",
   "name": "ir"
  },
  "language_info": {
   "codemirror_mode": "r",
   "file_extension": ".r",
   "mimetype": "text/x-r-source",
   "name": "R",
   "pygments_lexer": "r",
   "version": "3.6.3"
  }
 },
 "nbformat": 4,
 "nbformat_minor": 4
}
