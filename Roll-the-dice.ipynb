{
 "cells": [
  {
   "cell_type": "markdown",
   "metadata": {},
   "source": [
    "# Roll the dice"
   ]
  },
  {
   "cell_type": "markdown",
   "metadata": {},
   "source": [
    "Let's now consider a slighly more complex example, that of a die. A standard die has six faces representing the integers 1 to 6. To model this using <code>R</code> we can use the function <code>sample</code> which selects one item from a list at random. "
   ]
  },
  {
   "cell_type": "code",
   "execution_count": null,
   "metadata": {},
   "outputs": [],
   "source": [
    "dice <- c(1:6)\n",
    "roll_a_die <- function(dice){\n",
    "    sample(dice,1)\n",
    "}"
   ]
  },
  {
   "cell_type": "code",
   "execution_count": null,
   "metadata": {},
   "outputs": [],
   "source": [
    "roll_a_die(dice)"
   ]
  },
  {
   "cell_type": "markdown",
   "metadata": {},
   "source": [
    "Just as in the case of the coin we can think of the probability of the die showing \"4\" eyes up is the frequency with which we observe this outcome in very many trials. We can check that the probablity is $1/6\\simeq0.1666$ by the following code:"
   ]
  },
  {
   "cell_type": "code",
   "execution_count": null,
   "metadata": {},
   "outputs": [],
   "source": [
    "roll_n_dice <-function(dice,n){\n",
    "    outcome <- vector(length=n)\n",
    "    for (i in 1:n){\n",
    "        outcome[i]<-roll_a_die(dice)\n",
    "    }\n",
    "    return(outcome)\n",
    "}"
   ]
  },
  {
   "cell_type": "code",
   "execution_count": null,
   "metadata": {
    "scrolled": true
   },
   "outputs": [],
   "source": [
    "roll_n_dice(dice,4)"
   ]
  },
  {
   "cell_type": "markdown",
   "metadata": {},
   "source": [
    "And using the same syntax as for the coin we can crank up n "
   ]
  },
  {
   "cell_type": "code",
   "execution_count": null,
   "metadata": {},
   "outputs": [],
   "source": [
    "n<- 1000\n",
    "sum(roll_n_dice(dice,n)==4)/n"
   ]
  }
 ],
 "metadata": {
  "kernelspec": {
   "display_name": "R",
   "language": "R",
   "name": "ir"
  },
  "language_info": {
   "codemirror_mode": "r",
   "file_extension": ".r",
   "mimetype": "text/x-r-source",
   "name": "R",
   "pygments_lexer": "r",
   "version": "3.6.3"
  }
 },
 "nbformat": 4,
 "nbformat_minor": 4
}
