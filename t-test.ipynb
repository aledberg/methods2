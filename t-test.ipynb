{
 "cells": [
  {
   "cell_type": "markdown",
   "metadata": {},
   "source": [
    "# Comparing the means of two distributions"
   ]
  },
  {
   "cell_type": "markdown",
   "metadata": {},
   "source": [
    "Load the data. This is part of the INSARK-data that we have worked with before. It was made public by the national Swedish archives.  "
   ]
  },
  {
   "cell_type": "code",
   "execution_count": null,
   "metadata": {},
   "outputs": [],
   "source": [
    "options(repr.plot.width=14, repr.plot.height=8)\n",
    "suppressMessages(require(dplyr))\n",
    "suppressMessages(require(ggplot2))\n",
    "data <- readRDS(\"insark_h_w_born.rds\")\n",
    "names(data)\n",
    "table(data$born)"
   ]
  },
  {
   "cell_type": "markdown",
   "metadata": {},
   "source": [
    "Extract the data for the different periods and define a \"t-value\" function"
   ]
  },
  {
   "cell_type": "code",
   "execution_count": null,
   "metadata": {},
   "outputs": [],
   "source": [
    "dat1 <- data %>% filter(born==\"51-54\")\n",
    "dat2 <- data %>% filter(born==\"55-59\")\n",
    "## function that computes a t-values for a given sample size\n",
    "myt <- function(d1,d2,N){\n",
    "    ## sample at random from d1 and d2 with size N and compute the t-statistic\n",
    "    samp1 <- sample(d1,N)\n",
    "    samp2 <- sample(d2,N)\n",
    "    m1 <- mean(samp1)\n",
    "    m2 <- mean(samp2)\n",
    "    v1 <- var(samp1)\n",
    "    v2 <- var(samp2)\n",
    "    sp <- sqrt((v1+v2)/2)\n",
    "    t <- (m2-m1)/(sp/sqrt(N/2))\n",
    "    return(t)\n",
    "}"
   ]
  },
  {
   "cell_type": "markdown",
   "metadata": {},
   "source": [
    "Next we investigate the distribtion of the $t$-statistic for different values of the sample size."
   ]
  },
  {
   "cell_type": "code",
   "execution_count": null,
   "metadata": {},
   "outputs": [],
   "source": [
    "nrep <- 5000\n",
    "nsamp <- 10\n",
    "tval <- vector(length=nrep)\n",
    "for (i in 1:nrep)\n",
    "    tval[i] <- myt(dat1$w,dat2$w,nsamp)\n",
    "hist(tval)"
   ]
  },
  {
   "cell_type": "markdown",
   "metadata": {},
   "source": [
    "Try changing the number of samples to see how the distribution of the t-statistic changes"
   ]
  }
 ],
 "metadata": {
  "kernelspec": {
   "display_name": "R",
   "language": "R",
   "name": "ir"
  },
  "language_info": {
   "codemirror_mode": "r",
   "file_extension": ".r",
   "mimetype": "text/x-r-source",
   "name": "R",
   "pygments_lexer": "r",
   "version": "3.6.3"
  }
 },
 "nbformat": 4,
 "nbformat_minor": 4
}
