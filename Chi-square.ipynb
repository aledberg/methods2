{
 "cells": [
  {
   "cell_type": "markdown",
   "metadata": {},
   "source": [
    "# Contingency tables and $\\chi^2$"
   ]
  },
  {
   "cell_type": "markdown",
   "metadata": {},
   "source": [
    "In this notebook we will look how to compute the $\\chi^2$ test-statistic for a 2x2 contingency table. The example data comes from the [SOM Survey](https://www.gu.se/en/som-institute/the-som-surveys) performed annually by Göteborgs universitet. We will look at two variables from the 2015 survey and will treat the 1499 respondents as a random sample of the population. The dataset we will work with has been slightly edited."
   ]
  },
  {
   "cell_type": "markdown",
   "metadata": {},
   "source": [
    "Start by loading the datasets."
   ]
  },
  {
   "cell_type": "code",
   "execution_count": null,
   "metadata": {},
   "outputs": [],
   "source": [
    "options(repr.plot.width=14, repr.plot.height=8)\n",
    "suppressMessages(require(dplyr))\n",
    "suppressMessages(require(ggplot2))\n",
    "data <- readRDS(\"data_from_som2015.rds\")\n",
    "names(data)"
   ]
  },
  {
   "cell_type": "markdown",
   "metadata": {},
   "source": [
    "Cross-tabulate and compute the expected cell-values based on independence of margin probabilities "
   ]
  },
  {
   "cell_type": "code",
   "execution_count": null,
   "metadata": {},
   "outputs": [],
   "source": [
    "## table w margins\n",
    "tab <- table(data$sex,data$faith)\n",
    "xtab <- addmargins(tab)\n",
    "## expected values under independence \n",
    "expected <- function(xtab){\n",
    "    expected <- matrix(nrow=2,ncol=2)\n",
    "    for (i in 1:2)\n",
    "        for (j in 1:2)\n",
    "            expected[i,j] <- xtab[i,3]/xtab[3,3]*xtab[3,j]\n",
    "    return(expected)\n",
    "}\n",
    "print(\"observed\")\n",
    "print(xtab)\n",
    "print(\"expected\")\n",
    "print(addmargins(expected(xtab)))"
   ]
  },
  {
   "cell_type": "code",
   "execution_count": null,
   "metadata": {},
   "outputs": [],
   "source": [
    "## next we compute the chi-square \n",
    "mychi <- function(xtab){\n",
    "    expect <- expected(xtab)\n",
    "    chi2 <- 0\n",
    "    for (i in 1:2)\n",
    "        for (j in 1:2)\n",
    "            chi2 <- chi2+(expect[i,j]- xtab[i,j])**2/expect[i,j]\n",
    "    return(chi2)\n",
    "}\n",
    "print(mychi(xtab))\n"
   ]
  },
  {
   "cell_type": "markdown",
   "metadata": {},
   "source": [
    "To know if this value is large or small, we will next simulate a number of contingency tables having the same marginals. For each of these tables we compute the $\\chi^2$. This is the distribution under the null-hypothesis."
   ]
  },
  {
   "cell_type": "code",
   "execution_count": null,
   "metadata": {},
   "outputs": [],
   "source": [
    "## use the function r2dtable to generate random samples from 2x2 contingenct tables\n",
    "rtab <- addmargins(r2dtable(1,margin.table(tab,1),margin.table(tab,2))[[1]])\n",
    "mychi(rtab)\n",
    "print(rtab)"
   ]
  },
  {
   "cell_type": "code",
   "execution_count": null,
   "metadata": {},
   "outputs": [],
   "source": [
    "## here we generate many such random matrices and compute chi2\n",
    "Nsim <- 10000\n",
    "stat<- vector(length=Nsim)\n",
    "for (i in 1:Nsim){\n",
    "    rtab <- addmargins(r2dtable(1,margin.table(tab,1),margin.table(tab,2))[[1]])\n",
    "    stat[i]<-mychi(rtab)\n",
    "}"
   ]
  },
  {
   "cell_type": "code",
   "execution_count": null,
   "metadata": {},
   "outputs": [],
   "source": [
    "hist(stat,30)"
   ]
  },
  {
   "cell_type": "code",
   "execution_count": null,
   "metadata": {},
   "outputs": [],
   "source": [
    "sum(stat > mychi(xtab))/Nsim"
   ]
  }
 ],
 "metadata": {
  "kernelspec": {
   "display_name": "R",
   "language": "R",
   "name": "ir"
  },
  "language_info": {
   "codemirror_mode": "r",
   "file_extension": ".r",
   "mimetype": "text/x-r-source",
   "name": "R",
   "pygments_lexer": "r",
   "version": "3.6.3"
  }
 },
 "nbformat": 4,
 "nbformat_minor": 4
}
