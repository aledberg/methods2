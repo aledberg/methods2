{
 "cells": [
  {
   "cell_type": "markdown",
   "metadata": {},
   "source": [
    "# Properties of the sample mean"
   ]
  },
  {
   "cell_type": "markdown",
   "metadata": {},
   "source": [
    "Here we will sample from a distribution and investigate how the properties of the sample mean depends on the sample size. "
   ]
  },
  {
   "cell_type": "code",
   "execution_count": null,
   "metadata": {},
   "outputs": [],
   "source": [
    "## load the ggplot2 package for pretty plotting\n",
    "require(ggplot2)\n",
    "require(dplyr)\n",
    "options(repr.plot.width=14, repr.plot.height=8)\n",
    "## load data from Riksarkivet, height and weight of military conscripts\n",
    "data <- readRDS(\"insark_h_w.rds\")"
   ]
  },
  {
   "cell_type": "markdown",
   "metadata": {},
   "source": [
    "Let's look at the data."
   ]
  },
  {
   "cell_type": "code",
   "execution_count": null,
   "metadata": {},
   "outputs": [],
   "source": [
    "dim(data)\n",
    "mean(data$w)\n",
    "ggplot(data=data,aes(x=w))+geom_histogram(binwidth=1)+xlab(\"weight (kg)\")+ylab(\"count\")+theme_bw(base_size=18)"
   ]
  },
  {
   "cell_type": "markdown",
   "metadata": {},
   "source": [
    "We see that the true mean is 68 kg. Let's try to estimate this from a sample from this population."
   ]
  },
  {
   "cell_type": "code",
   "execution_count": null,
   "metadata": {},
   "outputs": [],
   "source": [
    "nsamp <- 10\n",
    "samp <- sample(data$w,nsamp,replace=FALSE)\n",
    "mean(samp)"
   ]
  },
  {
   "cell_type": "markdown",
   "metadata": {},
   "source": [
    "Now we can repeat this sampling a number times and look at the distribution of sample means."
   ]
  },
  {
   "cell_type": "code",
   "execution_count": null,
   "metadata": {},
   "outputs": [],
   "source": [
    "nsamp <- 10\n",
    "niter <- 5000\n",
    "smean <- vector(length=niter)\n",
    "for (i in 1:niter){\n",
    "    smean[i] <- mean(sample(data$w,nsamp,replace=FALSE))\n",
    "}"
   ]
  },
  {
   "cell_type": "markdown",
   "metadata": {},
   "source": [
    "Make a histogram of the sample means"
   ]
  },
  {
   "cell_type": "code",
   "execution_count": null,
   "metadata": {},
   "outputs": [],
   "source": [
    "hist(smean,25)"
   ]
  },
  {
   "cell_type": "markdown",
   "metadata": {},
   "source": [
    "**Exercise:** increase the size of the sample and see how the distribution of the sample mean changes "
   ]
  }
 ],
 "metadata": {
  "kernelspec": {
   "display_name": "R",
   "language": "R",
   "name": "ir"
  },
  "language_info": {
   "codemirror_mode": "r",
   "file_extension": ".r",
   "mimetype": "text/x-r-source",
   "name": "R",
   "pygments_lexer": "r",
   "version": "3.6.3"
  }
 },
 "nbformat": 4,
 "nbformat_minor": 4
}
