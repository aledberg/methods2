{
 "cells": [
  {
   "cell_type": "markdown",
   "metadata": {},
   "source": [
    "# Contingency tables logistic regression"
   ]
  },
  {
   "cell_type": "markdown",
   "metadata": {},
   "source": [
    "In this notebook we will look at a simple example of logistic regression and compare the results with what we get from an analysis of a contingency table. The example data comes from the [SOM Survey](https://www.gu.se/en/som-institute/the-som-surveys) performed annually by Göteborgs universitet. We will look at two variables from the 2015 survey and will treat the 1499 respondents as a random sample of the population. The dataset we will work with has been slightly edited."
   ]
  },
  {
   "cell_type": "markdown",
   "metadata": {},
   "source": [
    "Start by loading the datasets."
   ]
  },
  {
   "cell_type": "code",
   "execution_count": 1,
   "metadata": {},
   "outputs": [
    {
     "data": {
      "text/html": [
       "<style>\n",
       ".list-inline {list-style: none; margin:0; padding: 0}\n",
       ".list-inline>li {display: inline-block}\n",
       ".list-inline>li:not(:last-child)::after {content: \"\\00b7\"; padding: 0 .5ex}\n",
       "</style>\n",
       "<ol class=list-inline><li>'faith'</li><li>'sex'</li></ol>\n"
      ],
      "text/latex": [
       "\\begin{enumerate*}\n",
       "\\item 'faith'\n",
       "\\item 'sex'\n",
       "\\end{enumerate*}\n"
      ],
      "text/markdown": [
       "1. 'faith'\n",
       "2. 'sex'\n",
       "\n",
       "\n"
      ],
      "text/plain": [
       "[1] \"faith\" \"sex\"  "
      ]
     },
     "metadata": {},
     "output_type": "display_data"
    }
   ],
   "source": [
    "options(repr.plot.width=14, repr.plot.height=8)\n",
    "suppressMessages(require(dplyr))\n",
    "suppressMessages(require(ggplot2))\n",
    "data <- readRDS(\"data_from_som2015.rds\")\n",
    "names(data)"
   ]
  },
  {
   "cell_type": "markdown",
   "metadata": {},
   "source": [
    "Cross-tabulate the data"
   ]
  },
  {
   "cell_type": "code",
   "execution_count": 18,
   "metadata": {},
   "outputs": [
    {
     "name": "stdout",
     "output_type": "stream",
     "text": [
      "[1] \"observed\"\n",
      "       \n",
      "          No  Yes  Sum\n",
      "  Man    470  228  698\n",
      "  Woman  413  388  801\n",
      "  Sum    883  616 1499\n",
      "[1] \"proportions\"\n",
      "       \n",
      "               No       Yes\n",
      "  Man   0.6733524 0.3266476\n",
      "  Woman 0.5156055 0.4843945\n"
     ]
    }
   ],
   "source": [
    "## table w margins\n",
    "tab <- table(data$sex,data$faith)\n",
    "xtab <- addmargins(tab)\n",
    "print(\"observed\")\n",
    "print(xtab)\n",
    "print(\"proportions\")\n",
    "ptab <- prop.table(tab,1)\n",
    "print(ptab)"
   ]
  },
  {
   "cell_type": "code",
   "execution_count": 26,
   "metadata": {},
   "outputs": [
    {
     "name": "stdout",
     "output_type": "stream",
     "text": [
      "[1] \"odds for men:  0.49\"\n",
      "[1] \"odds for women:  0.94\"\n"
     ]
    }
   ],
   "source": [
    "## compute the OR based on the contingency table\n",
    "odds_men <- ptab[1,2]/(1-ptab[1,2])\n",
    "print(paste(\"odds for men: \", round(odds_men,2)))\n",
    "odds_women <- ptab[2,2]/(1-ptab[2,2])\n",
    "print(paste(\"odds for women: \", round(odds_women,2)))\n",
    "odds_ratio <- odds_women/odds_men"
   ]
  },
  {
   "cell_type": "code",
   "execution_count": 14,
   "metadata": {},
   "outputs": [
    {
     "data": {
      "text/plain": [
       "\n",
       "Call:\n",
       "glm(formula = as.factor(faith) ~ 1 + sex, family = binomial, \n",
       "    data = data)\n",
       "\n",
       "Deviance Residuals: \n",
       "    Min       1Q   Median       3Q      Max  \n",
       "-1.1510  -1.1510  -0.8894   1.2040   1.4959  \n",
       "\n",
       "Coefficients:\n",
       "            Estimate Std. Error z value Pr(>|z|)    \n",
       "(Intercept) -0.72339    0.08071  -8.963  < 2e-16 ***\n",
       "sexWoman     0.66094    0.10730   6.160 7.27e-10 ***\n",
       "---\n",
       "Signif. codes:  0 ‘***’ 0.001 ‘**’ 0.01 ‘*’ 0.05 ‘.’ 0.1 ‘ ’ 1\n",
       "\n",
       "(Dispersion parameter for binomial family taken to be 1)\n",
       "\n",
       "    Null deviance: 2030.2  on 1498  degrees of freedom\n",
       "Residual deviance: 1991.6  on 1497  degrees of freedom\n",
       "AIC: 1995.6\n",
       "\n",
       "Number of Fisher Scoring iterations: 4\n"
      ]
     },
     "metadata": {},
     "output_type": "display_data"
    }
   ],
   "source": [
    "## next we fit a logistic regression model\n",
    "mod <- glm(as.factor(faith)~1+sex,data=data,family=binomial)\n",
    "summary(mod)"
   ]
  },
  {
   "cell_type": "code",
   "execution_count": 17,
   "metadata": {},
   "outputs": [
    {
     "name": "stdout",
     "output_type": "stream",
     "text": [
      "(Intercept)    sexWoman \n",
      "      0.485       1.937 \n"
     ]
    }
   ],
   "source": [
    "## let's look at the coefficients exponentiated\n",
    "print(round(exp(mod$coefficients),3))"
   ]
  },
  {
   "cell_type": "markdown",
   "metadata": {},
   "source": [
    "Compare the value of the coefficient for sex with the odds ratio calculated from the contingency table: \n"
   ]
  },
  {
   "cell_type": "code",
   "execution_count": 31,
   "metadata": {},
   "outputs": [
    {
     "name": "stdout",
     "output_type": "stream",
     "text": [
      "[1] 1.937\n"
     ]
    },
    {
     "data": {
      "text/html": [
       "-0.0624422533377597"
      ],
      "text/latex": [
       "-0.0624422533377597"
      ],
      "text/markdown": [
       "-0.0624422533377597"
      ],
      "text/plain": [
       "[1] -0.06244225"
      ]
     },
     "metadata": {},
     "output_type": "display_data"
    }
   ],
   "source": [
    "print(round(odds_ratio,3))\n",
    "sum(mod$coefficients)"
   ]
  }
 ],
 "metadata": {
  "kernelspec": {
   "display_name": "R",
   "language": "R",
   "name": "ir"
  },
  "language_info": {
   "codemirror_mode": "r",
   "file_extension": ".r",
   "mimetype": "text/x-r-source",
   "name": "R",
   "pygments_lexer": "r",
   "version": "3.6.3"
  }
 },
 "nbformat": 4,
 "nbformat_minor": 4
}
