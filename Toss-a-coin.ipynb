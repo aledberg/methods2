{
 "cells": [
  {
   "cell_type": "markdown",
   "metadata": {},
   "source": [
    "# A model of coin tossing"
   ]
  },
  {
   "cell_type": "markdown",
   "metadata": {},
   "source": [
    "Let's toss a coin. We can represent a coin toss with a function that returns \"heads\" or \"tails\" with the same probability. The <code>R</code> below does exactly that."
   ]
  },
  {
   "cell_type": "code",
   "execution_count": null,
   "metadata": {},
   "outputs": [],
   "source": [
    "## code to represent the tossing of a fair coin\n",
    "cointoss <- function(){\n",
    "    if (runif(1) < 0.5)\n",
    "        return(\"heads\")\n",
    "    else\n",
    "        return(\"tails\")\n",
    "}"
   ]
  },
  {
   "cell_type": "markdown",
   "metadata": {},
   "source": [
    "Now we can try this function:"
   ]
  },
  {
   "cell_type": "code",
   "execution_count": null,
   "metadata": {},
   "outputs": [],
   "source": [
    "cointoss()"
   ]
  },
  {
   "cell_type": "markdown",
   "metadata": {},
   "source": [
    "Let's consider the following question: \"what is the probability that the \"coin\" falls heads up?\" What do we mean with \"probability\" here? One way of defining probability in this case is to consider the probability of \"head\" as the number of times we get \"head\" when tossing the coin very many times. We can easily toss our \"coin\" very many times using <code>R</code>"
   ]
  },
  {
   "cell_type": "code",
   "execution_count": null,
   "metadata": {},
   "outputs": [],
   "source": [
    "## toss the coin n times using the function toss()\n",
    "toss <- function(n=1){\n",
    "    outcome <- vector(length=n)\n",
    "    for (i in 1:n){\n",
    "        outcome[i] <- cointoss()\n",
    "    }\n",
    "    return(outcome)\n",
    "}"
   ]
  },
  {
   "cell_type": "markdown",
   "metadata": {},
   "source": [
    "Let's try this new function:"
   ]
  },
  {
   "cell_type": "code",
   "execution_count": null,
   "metadata": {},
   "outputs": [],
   "source": [
    "toss(4)"
   ]
  },
  {
   "cell_type": "markdown",
   "metadata": {},
   "source": [
    "To proceed it would be handy with a function that counts the number of times we got \"heads\" as outcome. This can be achieved by the following syntax: <code>sum(outcome==\"heads\")</code>. Using this we can investigate how close the probability of \"head\" is to the nominal value of 0.5 as we increase the number of times we toss the coin."
   ]
  },
  {
   "cell_type": "code",
   "execution_count": null,
   "metadata": {},
   "outputs": [],
   "source": [
    "n<- 100\n",
    "outcome <- toss(n)\n",
    "## count the number of \"heads\" in the outcome and divide with total number of tosses to estimate p\n",
    "p_est <-sum(outcome==\"heads\")/n\n",
    "print(p_est)"
   ]
  },
  {
   "cell_type": "markdown",
   "metadata": {},
   "source": [
    "**Exercise:** Increasing <code>n</code> in the above code snipppet so that the error between <code>p_est</code> and $0.5$ become smaller than 0.01."
   ]
  }
 ],
 "metadata": {
  "kernelspec": {
   "display_name": "R",
   "language": "R",
   "name": "ir"
  },
  "language_info": {
   "codemirror_mode": "r",
   "file_extension": ".r",
   "mimetype": "text/x-r-source",
   "name": "R",
   "pygments_lexer": "r",
   "version": "3.6.3"
  }
 },
 "nbformat": 4,
 "nbformat_minor": 4
}
