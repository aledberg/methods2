{
 "cells": [
  {
   "cell_type": "markdown",
   "metadata": {},
   "source": [
    "# Comparing the means of two distributions"
   ]
  },
  {
   "cell_type": "markdown",
   "metadata": {},
   "source": [
    "Load the data. This is part of the INSARK-data that we have worked with before. It was made public by the national Swedish archives.  "
   ]
  },
  {
   "cell_type": "code",
   "execution_count": null,
   "metadata": {},
   "outputs": [],
   "source": [
    "options(repr.plot.width=14, repr.plot.height=8)\n",
    "suppressMessages(require(dplyr))\n",
    "suppressMessages(require(ggplot2))\n",
    "data <- readRDS(\"insark_h_w_born.rds\")\n",
    "names(data)\n",
    "table(data$born)"
   ]
  },
  {
   "cell_type": "markdown",
   "metadata": {},
   "source": [
    "Extract the data for the different periods and define a \"t-value\" function"
   ]
  },
  {
   "cell_type": "code",
   "execution_count": null,
   "metadata": {},
   "outputs": [],
   "source": [
    "dat1 <- data %>% filter(born==\"51-54\")\n",
    "dat2 <- data %>% filter(born==\"55-59\")\n",
    "## function that computes a t-value for a given sample size\n",
    "my_t_test <- function(samp1,samp2){\n",
    "    ## sample at random from d1 and d2 with size N and compute the t-statistic\n",
    "    N<- length(samp1)\n",
    "    m1 <- mean(samp1)\n",
    "    m2 <- mean(samp2)\n",
    "    v1 <- var(samp1)\n",
    "    v2 <- var(samp2)\n",
    "    sp <- sqrt((v1+v2)/2)\n",
    "    t <- (m2-m1)/(sp/sqrt(N/2))\n",
    "    return(t)\n",
    "}\n",
    "## calculate the \"population\" means as the average of the full data\n",
    "m1 <- mean(dat1$w)\n",
    "m2 <- mean(dat2$w)\n",
    "print(paste(\"mean weight population 1:\",round(m1,1)))\n",
    "print(paste(\"mean weight population 2:\",round(m2,1)))"
   ]
  },
  {
   "cell_type": "markdown",
   "metadata": {},
   "source": [
    "Next we sample from these populations and do a t-test to investigate of the means differ. "
   ]
  },
  {
   "cell_type": "code",
   "execution_count": null,
   "metadata": {},
   "outputs": [],
   "source": [
    "nrep <- 1000\n",
    "nsamp <- 10\n",
    "tval <- vector(length=nrep)\n",
    "for (i in 1:nrep){\n",
    "    samp1 <- sample(dat1$w,nsamp)\n",
    "    samp2 <- sample(dat2$w,nsamp)\n",
    "    tval[i] <- my_t_test(samp1,samp2)\n",
    "}\n",
    "hist(tval)"
   ]
  },
  {
   "cell_type": "markdown",
   "metadata": {},
   "source": [
    "Instead of just plotting the t-values we will now do a formal t-test. For this we need to know the critical value that the sample $t$ value has to exceeed for us to reject the null-hypothesis."
   ]
  },
  {
   "cell_type": "code",
   "execution_count": null,
   "metadata": {},
   "outputs": [],
   "source": [
    "## use a significance level of 0.01 (two sided)\n",
    "alpha <- 0.01/2\n",
    "df <- nsamp*2-2\n",
    "tcrit <- qt(1-alpha,df)"
   ]
  },
  {
   "cell_type": "markdown",
   "metadata": {},
   "source": [
    "Now we can check if the $t$-value of the sample exceeds the critical value. Change the sample size to see how that influence the probability of rejecting $H_0$."
   ]
  },
  {
   "cell_type": "code",
   "execution_count": null,
   "metadata": {},
   "outputs": [],
   "source": [
    "nsamp <- 100\n",
    "samp1 <- sample(dat1$w,nsamp)\n",
    "samp2 <- sample(dat2$w,nsamp)\n",
    "tval <- my_t_test(samp1,samp2)\n",
    "print(paste(\"mean sample 1:\",mean(samp1)))\n",
    "print(paste(\"mean sample 2:\",mean(samp2)))\n",
    "print(paste(\"t-value:\", tval)) \n",
    "print(paste(\"t-test:\", ifelse(abs(tval) > tcrit,\"reject H0\",\"accept H0\")))"
   ]
  },
  {
   "cell_type": "markdown",
   "metadata": {},
   "source": [
    "We can do this more systematically by repeating this many times and calculating how often we reject $H_0$.In the code below we let \"1\" denote rejection and \"0\" acceptance. By summing the output and dividing by the total number of trials (nrep) we estimate the probability of rejecting $H_0$ when it is true. This is called the _power_ of the test. "
   ]
  },
  {
   "cell_type": "code",
   "execution_count": null,
   "metadata": {},
   "outputs": [],
   "source": [
    "nrep <- 500\n",
    "nsamp <- 10\n",
    "test_res <- vector(length=nrep)\n",
    "for (i in 1:nrep){\n",
    "    samp1 <- sample(dat1$w,nsamp)\n",
    "    samp2 <- sample(dat2$w,nsamp)\n",
    "    tval <- my_t_test(samp1,samp2)\n",
    "    test_res[i] <- ifelse(abs(tval) > tcrit,1,0)\n",
    "}\n",
    "print(paste(\"test power\", sum(test_res)/nrep))"
   ]
  },
  {
   "cell_type": "markdown",
   "metadata": {},
   "source": [
    "**Question:** What is the sample size needed in order for the probability of rejecting $H_0$ exceeding 0.95? "
   ]
  }
 ],
 "metadata": {
  "kernelspec": {
   "display_name": "R",
   "language": "R",
   "name": "ir"
  },
  "language_info": {
   "codemirror_mode": "r",
   "file_extension": ".r",
   "mimetype": "text/x-r-source",
   "name": "R",
   "pygments_lexer": "r",
   "version": "3.6.3"
  }
 },
 "nbformat": 4,
 "nbformat_minor": 4
}
