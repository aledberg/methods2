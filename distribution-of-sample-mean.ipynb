{
 "cells": [
  {
   "cell_type": "markdown",
   "metadata": {},
   "source": [
    "# Distribution of the sample mean"
   ]
  },
  {
   "cell_type": "markdown",
   "metadata": {},
   "source": [
    "Here we will sample repeatedly from a population and investigate how the distribution of the sample mean depends on the sample size. The \"population\" we will sample from is the length of Swedish men measured when they were 18-20 years old. The data comes from Inskrivningsarkivregistret and were made public by Riksarkivet (Swedish National Archives). Although the data does not represent the complete population of Swedish men, we pretend it does for this exercise.  "
   ]
  },
  {
   "cell_type": "code",
   "execution_count": null,
   "metadata": {},
   "outputs": [],
   "source": [
    "## load the ggplot2 package for pretty plotting, and load data\n",
    "require(ggplot2)\n",
    "options(repr.plot.width=14, repr.plot.height=8)\n",
    "## load data from Riksarkivet, height and weight of military conscripts\n",
    "data <- readRDS(\"insark_h_w.rds\")"
   ]
  },
  {
   "cell_type": "markdown",
   "metadata": {},
   "source": [
    "Let's look at the population data."
   ]
  },
  {
   "cell_type": "code",
   "execution_count": null,
   "metadata": {},
   "outputs": [],
   "source": [
    "dim(data)\n",
    "mean(data$h)\n",
    "ggplot(data=data,aes(x=h))+geom_histogram(binwidth=1)+xlab(\"height (cm)\")+ylab(\"count\")+theme_bw(base_size=18)"
   ]
  },
  {
   "cell_type": "markdown",
   "metadata": {},
   "source": [
    "We see that the \"population\" mean is 178.7 cm. Let's try to estimate this from a sample from this population."
   ]
  },
  {
   "cell_type": "code",
   "execution_count": null,
   "metadata": {},
   "outputs": [],
   "source": [
    "nsamp <- 10\n",
    "samp <- sample(data$h,nsamp,replace=FALSE)\n",
    "mean(samp)"
   ]
  },
  {
   "cell_type": "markdown",
   "metadata": {},
   "source": [
    "Now we can repeat this sampling a number times and for different sample sizes. "
   ]
  },
  {
   "cell_type": "code",
   "execution_count": null,
   "metadata": {},
   "outputs": [],
   "source": [
    "nsamp <- 10\n",
    "niter <- 5000\n",
    "smean10 <- vector(length=niter)\n",
    "for (i in 1:niter){\n",
    "    smean10[i] <- mean(sample(data$h,nsamp,replace=FALSE))\n",
    "}\n",
    "nsamp <- 100\n",
    "smean100 <- vector(length=niter)\n",
    "for (i in 1:niter){\n",
    "    smean100[i] <- mean(sample(data$h,nsamp,replace=FALSE))\n",
    "}\n",
    "nsamp <- 1000\n",
    "smean1000 <- vector(length=niter)\n",
    "for (i in 1:niter){\n",
    "    smean1000[i] <- mean(sample(data$h,nsamp,replace=FALSE))\n",
    "}"
   ]
  },
  {
   "cell_type": "markdown",
   "metadata": {},
   "source": [
    "Now we will plot these three different sets of sample means."
   ]
  },
  {
   "cell_type": "code",
   "execution_count": null,
   "metadata": {},
   "outputs": [],
   "source": [
    "## make a data frame for plotting\n",
    "df <- data.frame(x=smean10,N=\"N=10\")\n",
    "df <- rbind(df,data.frame(x=smean100,N=\"N=100\"))\n",
    "df <- rbind(df,data.frame(x=smean1000,N=\"N=1000\"))\n",
    "\n",
    "ggplot(data=df,aes(x=x)) + facet_wrap(.~as.factor(N),scales=\"free_x\")+\n",
    "geom_histogram(position='identity',alpha=0.4)+xlab(\"length (cm)\")+theme_bw(base_size=18)"
   ]
  },
  {
   "cell_type": "markdown",
   "metadata": {},
   "source": [
    "Note the different scales on the X-axis. With larger sample, the variability is reduced and the distributon becomes more normal."
   ]
  }
 ],
 "metadata": {
  "kernelspec": {
   "display_name": "R",
   "language": "R",
   "name": "ir"
  },
  "language_info": {
   "codemirror_mode": "r",
   "file_extension": ".r",
   "mimetype": "text/x-r-source",
   "name": "R",
   "pygments_lexer": "r",
   "version": "3.6.3"
  }
 },
 "nbformat": 4,
 "nbformat_minor": 4
}
