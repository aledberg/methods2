{
 "cells": [
  {
   "cell_type": "markdown",
   "metadata": {},
   "source": [
    "# Sum of two dice"
   ]
  },
  {
   "cell_type": "markdown",
   "metadata": {},
   "source": [
    "Here we consider the case of rolling two dice and counting the total number of eyes that come up. We see that the outcome must in this case be an integer between 2 and 12. But note that there is only one way in which we can get the outcome \"2\" or \"12\", but there are four ways in which we can get the outcome \"9\" (which ways?). That is, in this case the outcomes do not all have the same probability. We can model this simply by rolling the dice two times and sum the outcomes. "
   ]
  },
  {
   "cell_type": "code",
   "execution_count": null,
   "metadata": {},
   "outputs": [],
   "source": [
    "dice <- c(1:6)\n",
    "sum_2_dice<-function(dice){\n",
    "    sum(sample(dice,2,replace=TRUE))\n",
    "}"
   ]
  },
  {
   "cell_type": "code",
   "execution_count": null,
   "metadata": {},
   "outputs": [],
   "source": [
    "sum_2_dice(dice)"
   ]
  },
  {
   "cell_type": "markdown",
   "metadata": {},
   "source": [
    "To get an idea of the probability of the different outcomes we roll the two dice many times"
   ]
  },
  {
   "cell_type": "code",
   "execution_count": null,
   "metadata": {},
   "outputs": [],
   "source": [
    "n=10000\n",
    "outcome <- vector(length=n)\n",
    "for (i in 1:n){\n",
    "    outcome[i]<- sum_2_dice(dice)\n",
    "}"
   ]
  },
  {
   "cell_type": "code",
   "execution_count": null,
   "metadata": {},
   "outputs": [],
   "source": [
    "table(outcome)/n"
   ]
  },
  {
   "cell_type": "markdown",
   "metadata": {},
   "source": [
    "Note that \"9\" occured in about $10\\%$ of cases. We saw that there are 4 ways in which we can get \"9\" and in total there is 36 possible outcomes ($6\\cdot 6$). Thus the probability of getting \"9\" should be $4/36\\simeq 0.111$ "
   ]
  }
 ],
 "metadata": {
  "kernelspec": {
   "display_name": "R",
   "language": "R",
   "name": "ir"
  },
  "language_info": {
   "codemirror_mode": "r",
   "file_extension": ".r",
   "mimetype": "text/x-r-source",
   "name": "R",
   "pygments_lexer": "r",
   "version": "3.6.3"
  }
 },
 "nbformat": 4,
 "nbformat_minor": 4
}
