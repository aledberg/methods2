{
 "cells": [
  {
   "cell_type": "markdown",
   "metadata": {},
   "source": [
    "# Causal inference using Swedish mortality data"
   ]
  },
  {
   "cell_type": "markdown",
   "metadata": {},
   "source": [
    "In this notebook we will look at how we can infer causality using data on daily death counts and verified cases of COVID-19. The first data comes from [Statistics Sweden](https://www.scb.se/hitta-statistik/corona/corona-i-statistiken/#Statistik). The dataset we will work with has been edited and all the deaths without a determined date has been removed. This means that the total number of death will be slightly lower than what it is in reality. The second dataset comes from Sweden's public health agency [FoHM](https://experience.arcgis.com/experience/09f821667ce64bf7be6f9f87457ed9aa)."
   ]
  },
  {
   "cell_type": "markdown",
   "metadata": {},
   "source": [
    "Recall that to make causal inference from non-experimental data we need an idea (model) of the underlying mechanisms. In this case the mechanism is obvious: the excess deaths were casused by COVID-19.  "
   ]
  },
  {
   "cell_type": "markdown",
   "metadata": {},
   "source": [
    "Start by loading the datasets."
   ]
  },
  {
   "cell_type": "code",
   "execution_count": null,
   "metadata": {},
   "outputs": [],
   "source": [
    "options(warn=-1)\n",
    "options(repr.plot.width=14, repr.plot.height=8)\n",
    "require(ggplot2)\n",
    "require(dplyr)\n",
    "data <- readRDS(\"mortality_data_from_SCB.rds\")\n",
    "covid <- readRDS(\"covid_data_from_FoHM.rds\")"
   ]
  },
  {
   "cell_type": "markdown",
   "metadata": {},
   "source": [
    "Lets plot the mortality data for 2020 and on. "
   ]
  },
  {
   "cell_type": "code",
   "execution_count": null,
   "metadata": {},
   "outputs": [],
   "source": [
    "## preare data for plotting\n",
    "tdata <- data %>% filter(sex==\"both\" & agegr==\"all\" & date >= \"2020-01-01\") \n",
    "## and plot the data plus prediction\n",
    "ggplot(data=tdata,aes(x=date,y=count))+geom_line(size=0.2)+geom_point()+ylab(\"deaths per day\")+xlab(\"calendar date\") +theme_bw(base_size=18)"
   ]
  },
  {
   "cell_type": "markdown",
   "metadata": {},
   "source": [
    "Next, we use the data on COVID-19 cases to investigate if the timing of the outbreaks coincide with the increase in deahts."
   ]
  },
  {
   "cell_type": "code",
   "execution_count": null,
   "metadata": {},
   "outputs": [],
   "source": [
    "## divide the data into two depending on the wave and rescale\n",
    "wave1 <- covid %>% filter(date < \"2020-05-31\") \n",
    "wave2 <- covid %>% filter(date > \"2020-07-31\") \n",
    "## plot data from the first wave\n",
    "ggplot(data=wave1,aes(x=date,y=fcount)) + geom_line()+ylab(\"cases per day\")+xlab(\"calendar date\") +theme_bw(base_size=18)"
   ]
  },
  {
   "cell_type": "code",
   "execution_count": null,
   "metadata": {},
   "outputs": [],
   "source": [
    "## plot data from the second wave\n",
    "ggplot(data=wave2,aes(x=date,y=fcount)) + geom_line()+ylab(\"cases per day\")+xlab(\"calendar date\") +theme_bw(base_size=18)"
   ]
  }
 ],
 "metadata": {
  "kernelspec": {
   "display_name": "R",
   "language": "R",
   "name": "ir"
  },
  "language_info": {
   "codemirror_mode": "r",
   "file_extension": ".r",
   "mimetype": "text/x-r-source",
   "name": "R",
   "pygments_lexer": "r",
   "version": "3.6.3"
  }
 },
 "nbformat": 4,
 "nbformat_minor": 4
}
