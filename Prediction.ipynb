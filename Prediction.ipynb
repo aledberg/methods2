{
 "cells": [
  {
   "cell_type": "markdown",
   "metadata": {},
   "source": [
    "# Prediction using Swedish mortality data"
   ]
  },
  {
   "cell_type": "markdown",
   "metadata": {},
   "source": [
    "In this notebook we will look at how predictions can be used to investigate excess mortality due to influenza or other virus. The data comes from [Statistics Sweden](https://www.scb.se/hitta-statistik/corona/corona-i-statistiken/#Statistik). The dataset we will work with has been edited and all the deaths without a determined date has been removed. This means that the total number of death will be slightly lower than what it is in reality. "
   ]
  },
  {
   "cell_type": "markdown",
   "metadata": {},
   "source": [
    "Start by loading the dataset and printing the first few lines."
   ]
  },
  {
   "cell_type": "code",
   "execution_count": null,
   "metadata": {},
   "outputs": [],
   "source": [
    "options(warn=-1)\n",
    "options(repr.plot.width=14, repr.plot.height=8)\n",
    "require(ggplot2)\n",
    "require(dplyr)\n",
    "data <- readRDS(\"mortality_data_from_SCB.rds\")"
   ]
  },
  {
   "cell_type": "markdown",
   "metadata": {},
   "source": [
    "The dataset contains the daily counts of number of persons who have died in Sweden from 2015-01-01 to 2021-01-31. We have seen that there are variations in the counts depending on the seasons. We will now build a simple model taking these variations into account.   "
   ]
  },
  {
   "cell_type": "code",
   "execution_count": null,
   "metadata": {},
   "outputs": [],
   "source": [
    "## prepare a temporary dataset\n",
    "tdata <- data %>% mutate(month=format(date,\"%m\")) %>% filter(sex==\"both\" & agegr==\"all\" & date < \"2020-01-01\") %>% mutate(time=as.integer(date-min(date)))\n",
    "## use poisson regression to fit the model\n",
    "fit <- glm(count~ 1+month+time,data=tdata,family=\"poisson\")\n",
    "## predict using the model \n",
    "tdata$pred <- predict(fit,type=\"response\")\n",
    "## and plot the data plus prediction\n",
    "ggplot(data=tdata,aes(x=date,y=count))+geom_point(size=0.2)+geom_line(aes(x=date,y=pred))+ylab(\"deaths per day\")+xlab(\"calendar date\") +theme_bw(base_size=18)"
   ]
  },
  {
   "cell_type": "markdown",
   "metadata": {},
   "source": [
    "Next, we use the model we fited using data from 2015-2019 to predict the deaths for 2020. "
   ]
  },
  {
   "cell_type": "code",
   "execution_count": null,
   "metadata": {},
   "outputs": [],
   "source": [
    "## create a dataset with data from 2020 \n",
    "tdata <- data %>% mutate(month=format(date,\"%m\")) %>% filter(sex==\"both\" & agegr==\"all\" & date >= \"2020-01-01\") %>% mutate(time=as.integer(date-as.Date(\"2015-01-01\")))\n",
    "## use the model (contained in fit) to predict deaths \n",
    "tdata$pred <- predict(fit,newdata=tdata,type=\"response\")\n",
    "## plot the data\n",
    "ggplot(data=tdata,aes(x=date,y=count))+geom_point(size=0.2)+geom_line(aes(x=date,y=pred))+ylab(\"deaths per day\")+xlab(\"calendar date\") +theme_bw(base_size=18)\n"
   ]
  },
  {
   "cell_type": "markdown",
   "metadata": {},
   "source": [
    "How do you explain the two waves of excess mortality?"
   ]
  }
 ],
 "metadata": {
  "kernelspec": {
   "display_name": "R",
   "language": "R",
   "name": "ir"
  },
  "language_info": {
   "codemirror_mode": "r",
   "file_extension": ".r",
   "mimetype": "text/x-r-source",
   "name": "R",
   "pygments_lexer": "r",
   "version": "3.6.3"
  }
 },
 "nbformat": 4,
 "nbformat_minor": 4
}
