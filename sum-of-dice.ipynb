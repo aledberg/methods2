{
 "cells": [
  {
   "cell_type": "markdown",
   "metadata": {},
   "source": [
    "# Sum of two dice"
   ]
  },
  {
   "cell_type": "markdown",
   "metadata": {},
   "source": [
    "Here we consider the case of rolling two dice and counting the total number of eyes that come up. We see that the outcome must in this case be an integer between 2 and 12. But note that there is only one way in which we can get the outcome \"2\" or \"12\", but there are four ways in which we can get the outcome \"9\" (which ways?). That is, in this case the outcomes do not all have the same probability. We can model this simply by rolling the dice two times and sum the outcomes. "
   ]
  },
  {
   "cell_type": "code",
   "execution_count": 3,
   "metadata": {},
   "outputs": [],
   "source": [
    "dice <- c(1:6)\n",
    "sum_2_dice<-function(dice){\n",
    "    sum(sample(dice,2,replace=TRUE))\n",
    "}"
   ]
  },
  {
   "cell_type": "code",
   "execution_count": 4,
   "metadata": {},
   "outputs": [
    {
     "data": {
      "text/html": [
       "6"
      ],
      "text/latex": [
       "6"
      ],
      "text/markdown": [
       "6"
      ],
      "text/plain": [
       "[1] 6"
      ]
     },
     "metadata": {},
     "output_type": "display_data"
    }
   ],
   "source": [
    "sum_2_dice(dice)"
   ]
  },
  {
   "cell_type": "markdown",
   "metadata": {},
   "source": [
    "To get an idea of the probability of the different outcomes we roll the two dice many times"
   ]
  },
  {
   "cell_type": "code",
   "execution_count": 5,
   "metadata": {},
   "outputs": [],
   "source": [
    "n=10000\n",
    "outcome <- vector(length=n)\n",
    "for (i in 1:n){\n",
    "    outcome[i]<- sum_2_dice(dice)\n",
    "}"
   ]
  },
  {
   "cell_type": "code",
   "execution_count": 6,
   "metadata": {},
   "outputs": [
    {
     "data": {
      "text/plain": [
       "outcome\n",
       "     2      3      4      5      6      7      8      9     10     11     12 \n",
       "0.0290 0.0538 0.0845 0.1132 0.1449 0.1618 0.1382 0.1118 0.0788 0.0547 0.0293 "
      ]
     },
     "metadata": {},
     "output_type": "display_data"
    }
   ],
   "source": [
    "table(outcome)/n"
   ]
  },
  {
   "cell_type": "markdown",
   "metadata": {},
   "source": [
    "Note that \"9\" occured in about $10\\%$ of cases. We saw that there are 4 ways in which we can get \"9\" and in total there is 36 possible outcomes ($6\\cdot 6$). Thus the probability of getting \"9\" should be $4/36\\simeq 0.111$ "
   ]
  }
 ],
 "metadata": {
  "kernelspec": {
   "display_name": "R",
   "language": "R",
   "name": "ir"
  },
  "language_info": {
   "codemirror_mode": "r",
   "file_extension": ".r",
   "mimetype": "text/x-r-source",
   "name": "R",
   "pygments_lexer": "r",
   "version": "3.6.3"
  }
 },
 "nbformat": 4,
 "nbformat_minor": 4
}
