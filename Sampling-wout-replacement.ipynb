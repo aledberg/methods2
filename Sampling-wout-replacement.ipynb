{
 "cells": [
  {
   "cell_type": "markdown",
   "metadata": {},
   "source": [
    "# Another model of coin tossing"
   ]
  },
  {
   "cell_type": "markdown",
   "metadata": {},
   "source": [
    "Let's consider another model of coin tossing. Here we first create a population, i.e. a large number of results of a coin toss (outcomes). Then we sample from this population without replacement."
   ]
  },
  {
   "cell_type": "code",
   "execution_count": null,
   "metadata": {},
   "outputs": [],
   "source": [
    "## code to represent the tossing of a fair coin\n",
    "cointoss <- function(){\n",
    "    if (runif(1) < 0.5)\n",
    "        return(\"heads\")\n",
    "    else\n",
    "        return(\"tails\")\n",
    "}"
   ]
  },
  {
   "cell_type": "markdown",
   "metadata": {},
   "source": [
    "Create our \"population\" by tossing the coin a large number of times and store the outcome."
   ]
  },
  {
   "cell_type": "code",
   "execution_count": null,
   "metadata": {},
   "outputs": [],
   "source": [
    "## toss the coin n times using the function cointoss()\n",
    "toss <- function(n=1){\n",
    "    outcome <- vector(length=n)\n",
    "    for (i in 1:n){\n",
    "        outcome[i] <- cointoss()\n",
    "    }\n",
    "    return(outcome)\n",
    "}"
   ]
  },
  {
   "cell_type": "markdown",
   "metadata": {},
   "source": [
    "Let's try this new function:"
   ]
  },
  {
   "cell_type": "code",
   "execution_count": null,
   "metadata": {},
   "outputs": [],
   "source": [
    "pop <- toss(10)\n",
    "print(pop)"
   ]
  },
  {
   "cell_type": "markdown",
   "metadata": {},
   "source": [
    "Next we create a large population (of size n):"
   ]
  },
  {
   "cell_type": "code",
   "execution_count": null,
   "metadata": {},
   "outputs": [],
   "source": [
    "n<- 1000000\n",
    "pop <- toss(n)"
   ]
  },
  {
   "cell_type": "markdown",
   "metadata": {},
   "source": [
    "Let's investigate the properties of the population based on a sample. In particular, lets look at the sample proportion of \"heads\". "
   ]
  },
  {
   "cell_type": "code",
   "execution_count": null,
   "metadata": {},
   "outputs": [],
   "source": [
    "nsamp=10\n",
    "samp <- sample(pop,nsamp,replace=FALSE)\n",
    "##samp\n",
    "sum(samp==\"heads\")/nsamp"
   ]
  },
  {
   "cell_type": "markdown",
   "metadata": {},
   "source": [
    "**Exercise:** test how the sample proportion deviates from the nominal 0.5 as a function of sample size. "
   ]
  }
 ],
 "metadata": {
  "kernelspec": {
   "display_name": "R",
   "language": "R",
   "name": "ir"
  },
  "language_info": {
   "codemirror_mode": "r",
   "file_extension": ".r",
   "mimetype": "text/x-r-source",
   "name": "R",
   "pygments_lexer": "r",
   "version": "3.6.3"
  }
 },
 "nbformat": 4,
 "nbformat_minor": 4
}
