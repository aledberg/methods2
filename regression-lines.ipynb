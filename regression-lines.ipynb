{
 "cells": [
  {
   "cell_type": "markdown",
   "metadata": {},
   "source": [
    "# Linear regression and variability of estimates"
   ]
  },
  {
   "cell_type": "markdown",
   "metadata": {},
   "source": [
    "Here we look at linear regression and sample properties of least squares estimates. Start by loading the data. This is part of the INSARK-data that we have worked with before. It was made public by the national Swedish archives.  "
   ]
  },
  {
   "cell_type": "code",
   "execution_count": null,
   "metadata": {},
   "outputs": [],
   "source": [
    "options(repr.plot.width=14, repr.plot.height=8)\n",
    "suppressMessages(require(dplyr))\n",
    "suppressMessages(require(ggplot2))\n",
    "data <- readRDS(\"insark_h_w_born.rds\")\n",
    "names(data)"
   ]
  },
  {
   "cell_type": "code",
   "execution_count": null,
   "metadata": {},
   "outputs": [],
   "source": [
    "nsamp <- 10\n",
    "nrep <- 5\n",
    "df <- data.frame(h=numeric(0),w=numeric(0),rep=character(0))\n",
    "hax <- seq(155,200)\n",
    "for (i in 1:nrep){\n",
    "    tmp <- data %>% sample_n(nsamp) %>% select(h,w)\n",
    "    fit <- lm(w~1+h,data=tmp)\n",
    "    pred <- predict(fit,newdata=data.frame(h=hax))\n",
    "    df <- rbind(df,data.frame(h=hax,w=pred,rep=paste(i)))\n",
    "}\n",
    "## plot these different lines\n",
    "ggplot(data=df,aes(x=h,y=w,color=rep))+geom_line()+\n",
    "xlab(\"height in cm\")+ylab(\"weight in KG\")+theme_bw(base_size=18)+ggtitle(\"least squares predictions\")\n"
   ]
  },
  {
   "cell_type": "markdown",
   "metadata": {},
   "source": [
    "**Exercise:** Change the sample size (nsamp) to investigate how the lines vary. "
   ]
  }
 ],
 "metadata": {
  "kernelspec": {
   "display_name": "R",
   "language": "R",
   "name": "ir"
  },
  "language_info": {
   "codemirror_mode": "r",
   "file_extension": ".r",
   "mimetype": "text/x-r-source",
   "name": "R",
   "pygments_lexer": "r",
   "version": "3.6.3"
  }
 },
 "nbformat": 4,
 "nbformat_minor": 4
}
